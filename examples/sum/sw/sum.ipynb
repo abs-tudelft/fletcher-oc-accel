{
 "cells": [
  {
   "cell_type": "code",
   "execution_count": null,
   "id": "81e40b0e",
   "metadata": {},
   "outputs": [],
   "source": [
    "import pyarrow as pa\n",
    "import pyfletcher as pf\n",
    "import numpy as np"
   ]
  },
  {
   "cell_type": "code",
   "execution_count": null,
   "id": "c665c5e5",
   "metadata": {},
   "outputs": [],
   "source": [
    "# Set up a RecordBatch reader and read the RecordBatch.\n",
    "    reader = pa.RecordBatchFileReader(\"./recordbatch.rb\")\n",
    "    batch = reader.get_batch(0)\n",
    "\n",
    "    platform = pf.Platform()                         # Create an interface to an auto-detected FPGA Platform.\n",
    "    platform.init()                                  # Initialize the Platform.\n",
    "\n",
    "    context = pf.Context(platform)                   # Create a Context for our data on the Platform.\n",
    "    context.queue_record_batch(batch)                # Queue the RecordBatch to the Context.\n",
    "    context.enable()                                 # Enable the Context, (potentially transferring the data to FPGA).\n",
    "\n",
    "    kernel = pf.Kernel(context)                      # Set up an interface to the Kernel, supplying the Context.\n",
    "    kernel.start()                                   # Start the kernel.\n",
    "    kernel.poll_until_done()                         # Wait for the kernel to finish.\n",
    "\n",
    "    result = kernel.get_return(np.dtype(np.int32))   # Obtain the result.\n",
    "    print(\"Sum: \" + str(result))                   # Print the result.\n",
    "    "
   ]
  }
 ],
 "metadata": {
  "kernelspec": {
   "display_name": "Python 3",
   "language": "python",
   "name": "python3"
  },
  "language_info": {
   "codemirror_mode": {
    "name": "ipython",
    "version": 3
   },
   "file_extension": ".py",
   "mimetype": "text/x-python",
   "name": "python",
   "nbconvert_exporter": "python",
   "pygments_lexer": "ipython3",
   "version": "3.6.12"
  }
 },
 "nbformat": 4,
 "nbformat_minor": 5
}
